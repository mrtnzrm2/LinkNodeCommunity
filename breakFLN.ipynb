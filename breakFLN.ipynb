{
 "cells": [
  {
   "cell_type": "code",
   "execution_count": 1,
   "metadata": {},
   "outputs": [],
   "source": [
    "# Boolean aliases ----\n",
    "T = True\n",
    "F = False\n",
    "# Standard libs ----\n",
    "import seaborn as sns\n",
    "import pandas as pd\n",
    "import matplotlib.pyplot as plt\n",
    "import networkx as nx\n",
    "# Personal libs ---- \n",
    "from networks.toy import TOY\n",
    "from networks.MAC.mac57 import MAC57\n",
    "from modules.hierarmerge import Hierarchy\n",
    "from plotting_modules.plotting_H import Plot_H\n",
    "from plotting_modules.plotting_N import Plot_N\n",
    "from modules.hierarentropy import Hierarchical_Entropy\n",
    "from modules.flatmap import FLATMAP\n",
    "from modules.colregion import colregion\n",
    "from various.data_transformations import maps\n",
    "from modules.discovery import discovery_channel\n",
    "from various.network_tools import *\n",
    "\n",
    "# Declare global variables ----\n",
    "linkage = \"single\"\n",
    "nlog10 = F\n",
    "lookup = F\n",
    "prob = F\n",
    "cut = F\n",
    "structure = \"FLNe\"\n",
    "mode = \"ZERO\"\n",
    "distance = \"tracto16\"\n",
    "nature = \"original\"\n",
    "imputation_method = \"\"\n",
    "topology = \"MIX\"\n",
    "mapping = \"trivial\"\n",
    "index  = \"Hellinger2\"\n",
    "discovery = \"discovery_7\"\n",
    "bias = 0.0\n",
    "opt_score = [\"_S\"]\n",
    "save_data = T\n",
    "version = \"57d106\"\n",
    "__nodes__ = 57\n",
    "__inj__ = 57"
   ]
  },
  {
   "cell_type": "code",
   "execution_count": 2,
   "metadata": {},
   "outputs": [
    {
     "name": "stdout",
     "output_type": "stream",
     "text": [
      "../pickle/MAC/57d106/FLNe/original/tracto16/57/SINGLE_106_57/ZERO/MIX_Hellinger2_trivial/b_0.0/discovery_7/hanalysis.pk\n"
     ]
    }
   ],
   "source": [
    "NET = MAC57(\n",
    "  linkage, mode,\n",
    "  nlog10 = nlog10,\n",
    "  structure = structure,\n",
    "  lookup = lookup,\n",
    "  version = version,\n",
    "  nature = nature,\n",
    "  model = imputation_method,\n",
    "  distance = distance,\n",
    "  inj = __inj__,\n",
    "  topology = topology,\n",
    "  index = index,\n",
    "  mapping = mapping,\n",
    "  cut = cut,\n",
    "  b = bias\n",
    ")\n",
    "\n",
    "NET_H = read_class(\n",
    "  NET.pickle_path,\n",
    "  \"hanalysis\"\n",
    ")"
   ]
  },
  {
   "cell_type": "code",
   "execution_count": 7,
   "metadata": {},
   "outputs": [],
   "source": [
    "def th_pass_graph(A, th):\n",
    "    return (A > th).astype(int)\n",
    "\n",
    "def density(A):\n",
    "    m, n = A.shape\n",
    "    l = np.sum(A > 0)\n",
    "    totalL = n*(n-1) + n*(m-n)\n",
    "    return l/totalL\n",
    "\n",
    "edge_weights = np.sort(np.unique(NET.A.ravel()))"
   ]
  },
  {
   "cell_type": "code",
   "execution_count": null,
   "metadata": {},
   "outputs": [],
   "source": [
    "OMG_ENSEMBLE2 = []\n",
    "C_ENSEMBLE2 = []\n",
    "\n",
    "for i in np.arange(10):\n",
    "  OMG_ENSEMBLE = []\n",
    "  C_ENSEMBLE = []\n",
    "  sA = NET.A\n",
    "  A = NET.A\n",
    "  CC = NET.CC\n",
    "  D = NET.D\n",
    "  j=0\n",
    "\n",
    "  permc = np.random.permutation(np.arange(NET.nodes))\n",
    "  permr = np.random.permutation(np.arange(NET.nodes, NET.rows))\n",
    "  permr = np.hstack([permc, permr])\n",
    "\n",
    "  A = A[permr, :][:, permc]\n",
    "  sA = sA[permr, :][:, permc]\n",
    "  CC = CC[permr, :][:, permc]\n",
    "  D = D[permr, :][:, permr]\n",
    "\n",
    "  gA = nx.DiGraph(A[:, :NET.nodes][:NET.nodes, :])\n",
    "\n",
    "  while nx.is_strongly_connected(gA):\n",
    "\n",
    "    RAND = MAC57(\n",
    "      linkage, mode,\n",
    "      nlog10 = nlog10,\n",
    "      structure = structure,\n",
    "      lookup = lookup,\n",
    "      version = version,\n",
    "      nature = nature,\n",
    "      model = imputation_method,\n",
    "      distance = distance,\n",
    "      inj = __inj__,\n",
    "      topology = topology,\n",
    "      index = index,\n",
    "      mapping = mapping,\n",
    "      cut = cut,\n",
    "      b = bias\n",
    "    )\n",
    "\n",
    "    RAND.A = A\n",
    "    RAND.D = D\n",
    "    RAND.CC = CC\n",
    "    RAND.struct_labels = RAND.struct_labels[permr]\n",
    "\n",
    "    H = Hierarchy(\n",
    "      RAND, A, A, D,\n",
    "      __nodes__, linkage, mode, lookup=lookup,\n",
    "      index=index\n",
    "    )\n",
    "    ## Compute features ----\n",
    "    H.BH_features_cpp_no_mu()\n",
    "    ## Compute lq arbre de merde ----\n",
    "    H.la_abre_a_merde_cpp(H.BH[0])\n",
    "    # Set labels to network ----\n",
    "    L = colregion(RAND, labels_name=f\"labels{__inj__}\")\n",
    "    H.set_colregion(L)\n",
    "    H.colregion.labels = RAND.struct_labels\n",
    "    H.delete_dist_matrix()\n",
    "\n",
    "    for SCORE in opt_score:\n",
    "      # Get best K and R ----\n",
    "      K, R, TH = get_best_kr_equivalence(SCORE, H)\n",
    "      for k, r, th in zip(K, R, TH):\n",
    "        H.set_kr(k, r, score=SCORE)\n",
    "        rlabels = get_labels_from_Z(H.Z, r)\n",
    "        rlabels = skim_partition(rlabels)\n",
    "        # Overlap ----\n",
    "        for direction in [\"both\"]: # ,  \"source\", \"target\",\n",
    "          overlap, data_nocs, noc_sizes, rlabels2  = discovery_channel[discovery](\n",
    "             H, k, rlabels, direction=direction, index=index\n",
    "          )\n",
    "          cover = omega_index_format(rlabels2,  data_nocs, RAND.struct_labels[:RAND.nodes])\n",
    "          OMGi = omega_index(cover, NET_H.cover[direction][\"_S\"])\n",
    "          OMG_ENSEMBLE.append(OMGi)\n",
    "\n",
    "    C = CC * th_pass_graph(sA, edge_weights[j])\n",
    "    A = C / np.sum(C, axis=0)\n",
    "    gA = nx.DiGraph(A[:, :NET.nodes][:NET.nodes, :])\n",
    "    j += 1\n",
    "    c = density(A)\n",
    "    print(f\"Density: {c}\")\n",
    "    C_ENSEMBLE.append(c)\n",
    "  \n",
    "  OMG_ENSEMBLE2 += OMG_ENSEMBLE\n",
    "  C_ENSEMBLE2 += C_ENSEMBLE"
   ]
  },
  {
   "cell_type": "code",
   "execution_count": null,
   "metadata": {},
   "outputs": [],
   "source": [
    "C_ENSEMBLE2 = np.array(C_ENSEMBLE2)\n",
    "OMG_ENSEMBLE2 = np.array(OMG_ENSEMBLE2)"
   ]
  },
  {
   "cell_type": "code",
   "execution_count": 3,
   "metadata": {},
   "outputs": [],
   "source": [
    "OMG_ENSEMBLE2 = pd.read_csv(\"../CSV/omage_pruning.csv\", header=None).to_numpy().ravel()\n",
    "C_ENSEMBLE2 = pd.read_csv(\"../CSV/density_pruning.csv\", header=None).to_numpy().ravel()"
   ]
  },
  {
   "cell_type": "code",
   "execution_count": 4,
   "metadata": {},
   "outputs": [
    {
     "data": {
      "image/png": "[encoded data removed]",
      "text/plain": [
       "<Figure size 640x480 with 1 Axes>"
      ]
     },
     "metadata": {},
     "output_type": "display_data"
    }
   ],
   "source": [
    "data = {\n",
    "  \"density\" : np.log(C_ENSEMBLE2),\n",
    "  \"omega\" : OMG_ENSEMBLE2\n",
    "}\n",
    "\n",
    "data = pd.DataFrame(data).groupby(\"density\")[\"omega\"].mean().reset_index()\n",
    "\n",
    "# x_smooth = data[\"density\"].rolling(window=20, win_type='gaussian', center=True).mean(std=0.3)\n",
    "# y_smooth = data[\"omega\"].rolling(window=20, win_type='gaussian', center=True).mean(std=0.3)\n",
    "\n",
    "# spl = interpolate.UnivariateSpline(C_ENSEMBLE2[corder], OMG_ENSEMBLE2[corder])\n",
    "\n",
    "fig, ax = plt.subplots(1, 1)\n",
    "\n",
    "sns.scatterplot(\n",
    "  data=data,\n",
    "  x=\"density\",\n",
    "  y=\"omega\",\n",
    "  s=10, alpha=0.7,\n",
    "  ax=ax\n",
    ")\n",
    "\n",
    "# sns.lineplot(\n",
    "#   x=x_smooth, y=y_smooth,\n",
    "#   color=sns.color_palette(\"deep\")[1],\n",
    "#   ax=ax\n",
    "# )\n",
    "plt.xlabel(\"log(density)\")\n",
    "plt.ylabel(r\"$<\\omega>$\")\n",
    "plt.show()"
   ]
  },
  {
   "cell_type": "code",
   "execution_count": 5,
   "metadata": {},
   "outputs": [
    {
     "name": "stdout",
     "output_type": "stream",
     "text": [
      "0.13751044277360067\n"
     ]
    }
   ],
   "source": [
    "max_omega = data.loc[(data[\"density\"] >= -2) & (data[\"density\"] < -1.8)][\"omega\"].max()\n",
    "min_density = np.exp(data[\"density\"].loc[data[\"omega\"] == max_omega].min())\n",
    "print(min_density)"
   ]
  },
  {
   "cell_type": "code",
   "execution_count": 8,
   "metadata": {},
   "outputs": [
    {
     "name": "stdout",
     "output_type": "stream",
     "text": [
      "1955\n"
     ]
    }
   ],
   "source": [
    "den = density(NET.A)\n",
    "kk = 0\n",
    "while den > min_density:\n",
    "  C = NET.CC * th_pass_graph(NET.A, edge_weights[kk])\n",
    "  den = density(C)\n",
    "  kk += 1\n",
    "\n",
    "Amin = C / np.sum(C, axis=0)\n",
    "\n",
    "print(kk-1)"
   ]
  },
  {
   "cell_type": "code",
   "execution_count": 9,
   "metadata": {},
   "outputs": [
    {
     "name": "stdout",
     "output_type": "stream",
     "text": [
      "Compute link hierarchical agglomeration ----\n"
     ]
    },
    {
     "name": "stderr",
     "output_type": "stream",
     "text": [
      "/Users/jmarti53/Documents/Projects/LINKPROJECT/Dlink/modules/hierarmerge.py:713: RuntimeWarning: divide by zero encountered in log\n",
      "  src_inset[i, j] = -2 * np.log(ct.Hellinger2(self.A[i, :], self.A[j, :], i, j))\n",
      "/Users/jmarti53/Documents/Projects/LINKPROJECT/Dlink/modules/hierarmerge.py:716: RuntimeWarning: divide by zero encountered in log\n",
      "  tgt_inset[i, j] = -2 * np.log(ct.Hellinger2(self.A[:, i], self.A[:, j], i, j))\n"
     ]
    },
    {
     "name": "stdout",
     "output_type": "stream",
     "text": [
      "source lambda:\n",
      " 0.046593183984229694\n",
      "target lambda:\n",
      " 0.05055570530008076\n",
      "source characteristic length: 5.851180260403588\n",
      "target characteristic length: -2.3279094432161083\n",
      "Mu-free\n",
      "Compute node hierarchy ----\n",
      "Commencer: la abre a merde\n",
      "25%\n",
      "50%\n",
      "75%\n",
      "Voila, bon ami\n",
      "Print hierarchy newicks\n",
      "((((((((((v1c:0,v2c:0):0.07917984703900582,(v4c:0,mtc:0):0.05649658337055885):0.11904556833554603,tepd:0):0.0,(v4lf:0,teo:0):0.0):0.017770266565217407,((((v1fplf:0,v2fplf:0):0.018900884167401766,v6:0):0.12154243413593646,((lip:0,mst:0):0.01609170240741742,(dp:0,mtp:0):0.016115663082190812):0.06651061592509477):0.02220030427370745,7a:0):0.05864202476440794):0.02914607623756249,(((((7b:0,2:0):0.0,((((1:0,f1:0):0.029581894876355652,((((((((24c:0,f7:0):0.0,f6:0):0.08012716327885172,(9:0,8b:0):0.0):0.018436754589789106,((((9/46d:0,8m:0):0.020774024492483778,46d:0):0.0016752779388112815,(((8l:0,8r:0):0.010063497898712637,45a:0):0.023830098372428554,12:0):0.011692210937794267):0.01101223775294935,9/46v:0):0.02270713493613863):0.0048645547741090756,24b:0):0.0377887741395202,(f2:0,f3:0):0.11343464060649044):0.026932874351293323,46v:0):0.019120577341315226,(((32:0,25:0):0.07468712307156933,14:0):0.14543471995408808,10:0):0.09787991840848043):0.0013376589607001499):0.002823513601762695,3:0):0.030149725228818647,((f5:0,prom:0):0.042762305018236524,f4:0):0.060542451943962905):0.0):0.008259774916920204,(mip:0,7m:0):0.0036336085466217583):0.008859379119110056,5:0):0.014300531555383023,opro:0):0.043652675643732985):0.011448849167035702,v1pclf:0):0.009512438883280683,((((stpi:0,pbr:0):0.030676820916258896,stpc:0):0.05197549490331155,stpr:0):0.09853681393250768,pbc:0):0.130454606458828):0.12906428599260789,(v1fpuf:0,th/tf:0):0.061258226025060036):0.027372774500779018,v2pcuf:0):0; \n",
      "\n",
      "No tree in Newick format\n",
      "Network density:\n",
      "0.13751044277360067\n",
      "Plot similarity plots and distance!!!\n"
     ]
    },
    {
     "name": "stderr",
     "output_type": "stream",
     "text": [
      "/Users/jmarti53/Documents/Projects/LINKPROJECT/Dlink/plotting_modules/plotting_N.py:365: RuntimeWarning: divide by zero encountered in log\n",
      "  daki = -2 * np.log(self.aki.copy())\n",
      "/Users/jmarti53/Documents/Projects/LINKPROJECT/Dlink/plotting_modules/plotting_N.py:375: RuntimeWarning: divide by zero encountered in log\n",
      "  daik = -2 * np.log(self.aik.copy())\n"
     ]
    },
    {
     "name": "stdout",
     "output_type": "stream",
     "text": [
      "Plot neuron-distance freq!!!\n",
      "\n",
      "loc:\t 1.267415\n",
      "lambda:\t 0.11990747615800167\n",
      "llhood -47758918.96879341\n",
      "error 2.35438540206602\n",
      "No histogram\n",
      "Find node partition using _S\n",
      "Best K: 82\n",
      "Best R: 22\t Score: _S\n",
      "No heatmap structure\n"
     ]
    },
    {
     "data": {
      "image/png": "[encoded data removed]",
      "text/plain": [
       "<Figure size 640x480 with 1 Axes>"
      ]
     },
     "metadata": {},
     "output_type": "display_data"
    }
   ],
   "source": [
    "PRUNE_NET = MAC57(\n",
    "  linkage, mode,\n",
    "  nlog10 = nlog10,\n",
    "  structure = structure,\n",
    "  lookup = lookup,\n",
    "  version = version,\n",
    "  nature = nature,\n",
    "  model = imputation_method,\n",
    "  distance = distance,\n",
    "  inj = __inj__,\n",
    "  topology = topology,\n",
    "  index = index,\n",
    "  mapping = mapping,\n",
    "  cut = cut,\n",
    "  b = bias\n",
    ")\n",
    "\n",
    "PRUNE_NET.A = Amin\n",
    "PRUNE_NET.CC = NET.CC * th_pass_graph(NET.A, edge_weights[kk-1])\n",
    "\n",
    "H = Hierarchy(\n",
    "  PRUNE_NET, Amin, Amin, PRUNE_NET.D,\n",
    "  __nodes__, linkage, mode, lookup=lookup,\n",
    "  index=index\n",
    ")\n",
    "## Compute features ----\n",
    "H.BH_features_cpp_no_mu()\n",
    "## Compute lq arbre de merde ----\n",
    "H.la_abre_a_merde_cpp(H.BH[0])\n",
    "# Set labels to network ----\n",
    "L = colregion(PRUNE_NET, labels_name=f\"labels{__inj__}\")\n",
    "H.set_colregion(L)\n",
    "H.delete_dist_matrix()\n",
    "\n",
    "plot_h = Plot_H(PRUNE_NET, H)\n",
    "plot_n = Plot_N(PRUNE_NET, H)\n",
    "HS = Hierarchical_Entropy(H.Z, H.nodes, PRUNE_NET.struct_labels[:PRUNE_NET.nodes])\n",
    "HS.Z2dict(\"short\")\n",
    "\n",
    "HS.zdict2newick(HS.tree, weighted=T, on=T)\n",
    "plot_h.plot_newick_R(HS.newick, HS.total_nodes, root_position=1-H.Z[:, 2][-1], weighted=T, on=F)\n",
    "\n",
    "RN = PRUNE_NET.A[:__nodes__, :].copy()\n",
    "RN[RN > 0] = -np.log(RN[RN > 0])\n",
    "np.fill_diagonal(RN, 0.)\n",
    "\n",
    "RW = PRUNE_NET.A.copy()\n",
    "RW[RW > 0] = -np.log(RW[RW > 0])\n",
    "np.fill_diagonal(RW, 0.)\n",
    "\n",
    "RW10 = PRUNE_NET.A.copy()\n",
    "RW10[RW10 > 0] = -np.log10(RW10[RW10 > 0])\n",
    "np.fill_diagonal(RW10, 0.)\n",
    "\n",
    "\n",
    "print(\"Network density:\")\n",
    "print(density(PRUNE_NET.CC))\n",
    "\n",
    "plot_n.plot_akis(PRUNE_NET.D, s=5, suffix=\"_prune\", on=T)\n",
    "plot_n.projection_probability(PRUNE_NET.CC, \"EXPMLE\", suffix=\"_prune\", bins=12, on=T)\n",
    "plot_n.histogram_weight(-RW10, label=r\"$\\log10(p(i,j))$\", suffix=\"log10_p_prune\", on=F)\n",
    "\n",
    "for SCORE in opt_score:\n",
    "  # Get best K and R ----\n",
    "  K, R, TH = get_best_kr_equivalence(SCORE, H)\n",
    "\n",
    "  for k, r, th in zip(K, R, TH):\n",
    "    print(f\"Find node partition using {SCORE}\")\n",
    "    print(\"Best K: {}\\nBest R: {}\\t Score: {}\".format(k, r, SCORE))\n",
    "    H.set_kr(k, r, score=SCORE)\n",
    "    rlabels = get_labels_from_Z(H.Z, r)\n",
    "    rlabels = skim_partition(rlabels)\n",
    "    # Plot H ----\n",
    "    plot_h.heatmap_dendro(\n",
    "      r, -RN, on=F, score=\"FLNe\",\n",
    "      cbar_label=r\"$\\log_{10}$FLNe\", font_size = 12, suffix=\"_prune\"\n",
    "    )\n",
    "\n",
    "    PRUNE_NET.overlap, PRUNE_NET.data_nocs, noc_sizes, rlabels2  = discovery_channel[discovery](\n",
    "      H, k, rlabels, direction=\"both\", index=index\n",
    "    )\n",
    "\n",
    "    plot_n.plot_network_covers(\n",
    "      k, RN, rlabels2, rlabels,\n",
    "      PRUNE_NET.data_nocs,\n",
    "      noc_sizes, H.colregion.labels[:H.nodes], ang=0,\n",
    "      score=SCORE, direction=\"both\", spring=F, font_size=16,\n",
    "      scale=0.45,\n",
    "      suffix=\"small_prune\", cmap_name=\"hls\", not_labels=F, on=F#, figsize=(8,8)\n",
    "    )"
   ]
  }
 ],
 "metadata": {
  "kernelspec": {
   "display_name": ".env",
   "language": "python",
   "name": "python3"
  },
  "language_info": {
   "codemirror_mode": {
    "name": "ipython",
    "version": 3
   },
   "file_extension": ".py",
   "mimetype": "text/x-python",
   "name": "python",
   "nbconvert_exporter": "python",
   "pygments_lexer": "ipython3",
   "version": "3.9.18"
  }
 },
 "nbformat": 4,
 "nbformat_minor": 2
}
