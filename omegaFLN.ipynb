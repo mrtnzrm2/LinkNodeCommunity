{
 "cells": [
  {
   "cell_type": "code",
   "execution_count": 4,
   "metadata": {},
   "outputs": [],
   "source": [
    "# Boolean aliases ----\n",
    "T = True\n",
    "F = False\n",
    "# Standard libs ----\n",
    "import seaborn as sns\n",
    "import pandas as pd\n",
    "import matplotlib.pyplot as plt\n",
    "import networkx as nx\n",
    "# Personal libs ---- \n",
    "from networks.toy import TOY\n",
    "from networks.MAC.mac57 import MAC57\n",
    "from modules.hierarmerge import Hierarchy\n",
    "from plotting_modules.plotting_H import Plot_H\n",
    "from plotting_modules.plotting_N import Plot_N\n",
    "from modules.hierarentropy import Hierarchical_Entropy\n",
    "from modules.flatmap import FLATMAP\n",
    "from modules.colregion import colregion\n",
    "from various.data_transformations import maps\n",
    "from modules.discovery import discovery_channel\n",
    "from various.network_tools import *\n",
    "\n",
    "# Declare global variables ----\n",
    "linkage = \"single\"\n",
    "nlog10 = F\n",
    "lookup = F\n",
    "prob = F\n",
    "cut = F\n",
    "structure = \"FLNe\"\n",
    "mode = \"ZERO\"\n",
    "distance = \"tracto16\"\n",
    "nature = \"original\"\n",
    "imputation_method = \"\"\n",
    "topology = \"MIX\"\n",
    "mapping = \"trivial\"\n",
    "index  = \"Hellinger2\"\n",
    "discovery = \"discovery_7\"\n",
    "bias = 0.0\n",
    "opt_score = [\"_S\"]\n",
    "save_data = T\n",
    "version = \"57d106\"\n",
    "__nodes__ = 57\n",
    "__inj__ = 57"
   ]
  },
  {
   "cell_type": "code",
   "execution_count": 5,
   "metadata": {},
   "outputs": [
    {
     "name": "stdout",
     "output_type": "stream",
     "text": [
      "../pickle/MAC/57d106/FLNe/original/tracto16/57/SINGLE_106_57/ZERO/MIX_Hellinger2_trivial/b_0.0/discovery_7/hanalysis.pk\n"
     ]
    }
   ],
   "source": [
    "NET = MAC57(\n",
    "  linkage, mode,\n",
    "  nlog10 = nlog10,\n",
    "  structure = structure,\n",
    "  lookup = lookup,\n",
    "  version = version,\n",
    "  nature = nature,\n",
    "  model = imputation_method,\n",
    "  distance = distance,\n",
    "  inj = __inj__,\n",
    "  topology = topology,\n",
    "  index = index,\n",
    "  mapping = mapping,\n",
    "  cut = cut,\n",
    "  b = bias\n",
    ")\n",
    "\n",
    "NET_H = read_class(\n",
    "  NET.pickle_path,\n",
    "  \"hanalysis\"\n",
    ")"
   ]
  },
  {
   "cell_type": "code",
   "execution_count": null,
   "metadata": {},
   "outputs": [],
   "source": [
    "OMG_ENSEMBLE = []\n",
    "C_ENSEMBLE = []\n",
    "\n",
    "for i in np.arange(1000):\n",
    "  A = NET.A\n",
    "  CC = NET.CC\n",
    "  D = NET.D\n",
    "\n",
    "  permc = np.random.permutation(np.arange(NET.nodes))\n",
    "  permr = np.random.permutation(np.arange(NET.nodes, NET.rows))\n",
    "  permr = np.hstack([permc, permr])\n",
    "\n",
    "  A = A[permr, :][:, permc]\n",
    "  D = D[permr, :][:, permr]\n",
    "  CC = CC[permr, :][:, permc]\n",
    "\n",
    "  RAND = MAC57(\n",
    "    linkage, mode,\n",
    "    nlog10 = nlog10,\n",
    "    structure = structure,\n",
    "    lookup = lookup,\n",
    "    version = version,\n",
    "    nature = nature,\n",
    "    model = imputation_method,\n",
    "    distance = distance,\n",
    "    inj = __inj__,\n",
    "    topology = topology,\n",
    "    index = index,\n",
    "    mapping = mapping,\n",
    "    cut = cut,\n",
    "    b = bias\n",
    "  )\n",
    "\n",
    "  RAND.A = A\n",
    "  RAND.D = D\n",
    "  RAND.CC = CC\n",
    "  RAND.struct_labels = RAND.struct_labels[permr]\n",
    "\n",
    "  H = Hierarchy(\n",
    "    RAND, A, A, D,\n",
    "    __nodes__, linkage, mode, lookup=lookup,\n",
    "    index=index\n",
    "  )\n",
    "  ## Compute features ----\n",
    "  H.BH_features_cpp_no_mu()\n",
    "  ## Compute lq arbre de merde ----\n",
    "  H.la_abre_a_merde_cpp(H.BH[0])\n",
    "  # Set labels to network ----\n",
    "  L = colregion(RAND, labels_name=f\"labels{__inj__}\")\n",
    "  H.set_colregion(L)\n",
    "  H.colregion.labels = RAND.struct_labels\n",
    "  H.delete_dist_matrix()\n",
    "\n",
    "  for SCORE in opt_score:\n",
    "    # Get best K and R ----\n",
    "    K, R, TH = get_best_kr_equivalence(SCORE, H)\n",
    "    for k, r, th in zip(K, R, TH):\n",
    "      H.set_kr(k, r, score=SCORE)\n",
    "      rlabels = get_labels_from_Z(H.Z, r)\n",
    "      rlabels = skim_partition(rlabels)\n",
    "      # Overlap ----\n",
    "      for direction in [\"both\"]: # ,  \"source\", \"target\",\n",
    "        overlap, data_nocs, noc_sizes, rlabels2  = discovery_channel[discovery](H, k, rlabels, direction=direction, index=index)\n",
    "        cover = omega_index_format(rlabels2,  data_nocs, RAND.struct_labels[:NET.nodes])\n",
    "        OMGi = omega_index(cover, NET_H.cover[direction][\"_S\"])\n",
    "        OMG_ENSEMBLE.append(OMGi)\n"
   ]
  },
  {
   "cell_type": "code",
   "execution_count": 7,
   "metadata": {},
   "outputs": [
    {
     "data": {
      "image/png": "[encoded data removed]",
      "text/plain": [
       "<Figure size 640x480 with 1 Axes>"
      ]
     },
     "metadata": {},
     "output_type": "display_data"
    }
   ],
   "source": [
    "sns.histplot(\n",
    "  x=OMG_ENSEMBLE\n",
    ")\n",
    "plt.show()"
   ]
  }
 ],
 "metadata": {
  "kernelspec": {
   "display_name": ".env",
   "language": "python",
   "name": "python3"
  },
  "language_info": {
   "codemirror_mode": {
    "name": "ipython",
    "version": 3
   },
   "file_extension": ".py",
   "mimetype": "text/x-python",
   "name": "python",
   "nbconvert_exporter": "python",
   "pygments_lexer": "ipython3",
   "version": "3.9.18"
  }
 },
 "nbformat": 4,
 "nbformat_minor": 2
}
