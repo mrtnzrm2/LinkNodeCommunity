{
 "cells": [
  {
   "cell_type": "code",
   "execution_count": null,
   "id": "e572482b",
   "metadata": {},
   "outputs": [],
   "source": [
    "# Standard Python libs ----\n",
    "import numpy as np\n",
    "import pandas as pd\n",
    "import matplotlib.pyplot as plt\n",
    "import seaborn as sns\n",
    "import networkx as nx\n",
    "import os\n",
    "import sys\n",
    "\n",
    "# Add the parent directory to sys.path so src can be imported\n",
    "# sys.path.append(os.path.abspath(os.path.join(os.getcwd(), '..')))\n",
    "\n",
    "__file__ = \"/data3/mjorge/LinkNodeCommunity\"\n",
    "sys.path.append(__file__)\n",
    "\n",
    "\n",
    "import LinkNodeCommunity as linknode\n",
    "from src.LinkNodeCommunity.utils import linknode_equivalence_partition\n",
    "from src.viz.graphics import link_statistics_graph, linkcommunity_matrix_map, dendrogram"
   ]
  },
  {
   "cell_type": "code",
   "execution_count": 4,
   "id": "851c420e",
   "metadata": {},
   "outputs": [],
   "source": [
    "data = pd.read_table(\n",
    "    \"data/WikiVote/Wiki-Vote.txt\", header=3, names=[\"source\", \"target\"]\n",
    ")"
   ]
  },
  {
   "cell_type": "code",
   "execution_count": 5,
   "id": "4158017b",
   "metadata": {},
   "outputs": [],
   "source": [
    "# Get unique nodes from both 'source' and 'target' columns\n",
    "unique_nodes = pd.unique(data[['source', 'target']].values.ravel())\n",
    "\n",
    "# Create a mapping from old node ids to new consecutive ids\n",
    "node_mapping = {old_id: new_id for new_id, old_id in enumerate(sorted(unique_nodes))}\n",
    "\n",
    "# Relabel the 'source' and 'target' columns using the mapping\n",
    "data_relabel = data.replace({'source': node_mapping, 'target': node_mapping})\n",
    "\n",
    "# data_relabel now has nodes relabeled from 0 to N-1"
   ]
  },
  {
   "cell_type": "code",
   "execution_count": 6,
   "id": "65e12897",
   "metadata": {},
   "outputs": [
    {
     "ename": "RuntimeError",
     "evalue": "Probability of being a tree (Ptree) was negative.",
     "output_type": "error",
     "traceback": [
      "\u001b[31m---------------------------------------------------------------------------\u001b[39m",
      "\u001b[31mRuntimeError\u001b[39m                              Traceback (most recent call last)",
      "\u001b[36mCell\u001b[39m\u001b[36m \u001b[39m\u001b[32mIn[6]\u001b[39m\u001b[32m, line 3\u001b[39m\n\u001b[32m      1\u001b[39m G = nx.from_pandas_edgelist(data_relabel, \u001b[33m\"\u001b[39m\u001b[33msource\u001b[39m\u001b[33m\"\u001b[39m, \u001b[33m\"\u001b[39m\u001b[33mtarget\u001b[39m\u001b[33m\"\u001b[39m, create_using=nx.DiGraph)\n\u001b[32m      2\u001b[39m model = linknode.Clustering(G, similarity_index=\u001b[33m\"\u001b[39m\u001b[33mcosine_similarity\u001b[39m\u001b[33m\"\u001b[39m)\n\u001b[32m----> \u001b[39m\u001b[32m3\u001b[39m \u001b[43mmodel\u001b[49m\u001b[43m.\u001b[49m\u001b[43mfit\u001b[49m\u001b[43m(\u001b[49m\u001b[43muse_parallel\u001b[49m\u001b[43m=\u001b[49m\u001b[38;5;28;43;01mTrue\u001b[39;49;00m\u001b[43m,\u001b[49m\u001b[43m \u001b[49m\u001b[43mflat_mode\u001b[49m\u001b[43m=\u001b[49m\u001b[38;5;28;43;01mTrue\u001b[39;49;00m\u001b[43m,\u001b[49m\u001b[43m \u001b[49m\u001b[43mmethod\u001b[49m\u001b[43m=\u001b[49m\u001b[33;43m\"\u001b[39;49m\u001b[33;43medgelist\u001b[39;49m\u001b[33;43m\"\u001b[39;49m\u001b[43m,\u001b[49m\u001b[43m \u001b[49m\u001b[43mmax_dist\u001b[49m\u001b[43m=\u001b[49m\u001b[32;43m1\u001b[39;49m\u001b[43m)\u001b[49m\n",
      "\u001b[36mFile \u001b[39m\u001b[32m/data3/mjorge/LinkNodeCommunity/src/LinkNodeCommunity/core/framework.py:195\u001b[39m, in \u001b[36mClustering.fit\u001b[39m\u001b[34m(self, use_parallel, flat_mode, method, max_dist)\u001b[39m\n\u001b[32m    193\u001b[39m   \u001b[38;5;28mself\u001b[39m.fit_linksim_edgelist(use_parallel=use_parallel, flat_mode=flat_mode)\n\u001b[32m    194\u001b[39m   \u001b[38;5;28mself\u001b[39m.fit_linkdist_edgelist()\n\u001b[32m--> \u001b[39m\u001b[32m195\u001b[39m   \u001b[38;5;28mself\u001b[39m.link_stats = \u001b[38;5;28;43mself\u001b[39;49m\u001b[43m.\u001b[49m\u001b[43mprocess_features_edgelist\u001b[49m\u001b[43m(\u001b[49m\u001b[43mmax_dist\u001b[49m\u001b[43m=\u001b[49m\u001b[43mmax_dist\u001b[49m\u001b[43m)\u001b[49m\n\u001b[32m    196\u001b[39m   \u001b[38;5;28mself\u001b[39m.node_community_hierarchy_edgelist(use_parallel=use_parallel, max_dist=max_dist)\n\u001b[32m    197\u001b[39m \u001b[38;5;28;01melse\u001b[39;00m:\n",
      "\u001b[36mFile \u001b[39m\u001b[32m/data3/mjorge/LinkNodeCommunity/src/LinkNodeCommunity/core/framework.py:345\u001b[39m, in \u001b[36mClustering.process_features_edgelist\u001b[39m\u001b[34m(self, max_dist)\u001b[39m\n\u001b[32m    342\u001b[39m \u001b[38;5;28;01melse\u001b[39;00m:\n\u001b[32m    343\u001b[39m   \u001b[38;5;28;01mraise\u001b[39;00m \u001b[38;5;167;01mValueError\u001b[39;00m(\u001b[33m\"\u001b[39m\u001b[33mLink community model has not been tested with the input linkage.\u001b[39m\u001b[33m\"\u001b[39m)\n\u001b[32m--> \u001b[39m\u001b[32m345\u001b[39m features = \u001b[38;5;28;43mself\u001b[39;49m\u001b[43m.\u001b[49m\u001b[43mcompute_features_edgelist\u001b[49m\u001b[43m(\u001b[49m\u001b[43mlinkage\u001b[49m\u001b[43m,\u001b[49m\u001b[43m \u001b[49m\u001b[43mmax_dist\u001b[49m\u001b[43m=\u001b[49m\u001b[43mmax_dist\u001b[49m\u001b[43m)\u001b[49m\n\u001b[32m    346\u001b[39m \u001b[38;5;28;01mreturn\u001b[39;00m pd.DataFrame(\n\u001b[32m    347\u001b[39m     {\n\u001b[32m    348\u001b[39m       \u001b[33m\"\u001b[39m\u001b[33mK\u001b[39m\u001b[33m\"\u001b[39m : features[\u001b[32m0\u001b[39m, :],\n\u001b[32m   (...)\u001b[39m\u001b[32m    352\u001b[39m     }\n\u001b[32m    353\u001b[39m   )\n",
      "\u001b[36mFile \u001b[39m\u001b[32m/data3/mjorge/LinkNodeCommunity/src/LinkNodeCommunity/core/framework.py:312\u001b[39m, in \u001b[36mClustering.compute_features_edgelist\u001b[39m\u001b[34m(self, linkage, max_dist)\u001b[39m\n\u001b[32m    300\u001b[39m     \u001b[38;5;28;01mraise\u001b[39;00m \u001b[38;5;167;01mAssertionError\u001b[39;00m(\n\u001b[32m    301\u001b[39m       \u001b[33m\"\u001b[39m\u001b[33medgelist is not sorted by \u001b[39m\u001b[33m'\u001b[39m\u001b[33msource\u001b[39m\u001b[33m'\u001b[39m\u001b[33m and then \u001b[39m\u001b[33m'\u001b[39m\u001b[33mtarget\u001b[39m\u001b[33m'\u001b[39m\u001b[33m. Sort it before computing features.\u001b[39m\u001b[33m\"\u001b[39m\n\u001b[32m    302\u001b[39m     )\n\u001b[32m    304\u001b[39m features = link_stats.core(\n\u001b[32m    305\u001b[39m   \u001b[38;5;28mself\u001b[39m.N,\n\u001b[32m    306\u001b[39m   \u001b[38;5;28mself\u001b[39m.M,\n\u001b[32m   (...)\u001b[39m\u001b[32m    310\u001b[39m   \u001b[38;5;28mself\u001b[39m.undirected\n\u001b[32m    311\u001b[39m )\n\u001b[32m--> \u001b[39m\u001b[32m312\u001b[39m \u001b[43mfeatures\u001b[49m\u001b[43m.\u001b[49m\u001b[43mfit_edgelist\u001b[49m\u001b[43m(\u001b[49m\u001b[38;5;28;43mself\u001b[39;49m\u001b[43m.\u001b[49m\u001b[43mlinkdist_edgelist\u001b[49m\u001b[43m,\u001b[49m\u001b[43m \u001b[49m\u001b[43mmax_dist\u001b[49m\u001b[43m)\u001b[49m\n\u001b[32m    313\u001b[39m result = np.array(\n\u001b[32m    314\u001b[39m   [\n\u001b[32m    315\u001b[39m     features.get_K(),\n\u001b[32m   (...)\u001b[39m\u001b[32m    319\u001b[39m   ]\n\u001b[32m    320\u001b[39m )\n\u001b[32m    321\u001b[39m \u001b[38;5;28;01mreturn\u001b[39;00m result\n",
      "\u001b[31mRuntimeError\u001b[39m: Probability of being a tree (Ptree) was negative."
     ]
    }
   ],
   "source": [
    "G = nx.from_pandas_edgelist(data_relabel, \"source\", \"target\", create_using=nx.DiGraph)\n",
    "model = linknode.Clustering(G, similarity_index=\"cosine_similarity\")\n",
    "model.fit(use_parallel=True, flat_mode=True, method=\"edgelist\", max_dist=1)"
   ]
  },
  {
   "cell_type": "code",
   "execution_count": null,
   "id": "a74a9ae7",
   "metadata": {},
   "outputs": [],
   "source": [
    "import igraph as ig\n",
    "\n",
    "# Convert NetworkX DiGraph to igraph Graph\n",
    "edges = list(G.edges())\n",
    "ig_G = ig.Graph(directed=True)\n",
    "ig_G.add_vertices(G.number_of_nodes())\n",
    "ig_G.add_edges(edges)\n",
    "\n",
    "# Plot using spring layout\n",
    "layout = ig_G.layout(\"fr\")\n",
    "ig.plot(ig_G, layout=layout, vertex_size=10, edge_arrow_size=0.5, bbox=(800, 800))"
   ]
  },
  {
   "cell_type": "code",
   "execution_count": null,
   "id": "050bff47",
   "metadata": {},
   "outputs": [],
   "source": []
  }
 ],
 "metadata": {
  "kernelspec": {
   "display_name": "Python 3 (ipykernel)",
   "language": "python",
   "name": "python3"
  },
  "language_info": {
   "codemirror_mode": {
    "name": "ipython",
    "version": 3
   },
   "file_extension": ".py",
   "mimetype": "text/x-python",
   "name": "python",
   "nbconvert_exporter": "python",
   "pygments_lexer": "ipython3",
   "version": "3.12.11"
  }
 },
 "nbformat": 4,
 "nbformat_minor": 5
}
